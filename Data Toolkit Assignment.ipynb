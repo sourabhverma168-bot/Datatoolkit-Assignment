{
 "cells": [
  {
   "cell_type": "markdown",
   "id": "7aeb4f20-b6e9-4b50-932a-6202f184cb07",
   "metadata": {},
   "source": [
    "# DATA TOOLKIT ASSIGNMENT THEORY AND PRACTICAL QUESTIONS\n"
   ]
  },
  {
   "cell_type": "markdown",
   "id": "95d17be1-bf5d-45b0-a3b4-dae7face85e4",
   "metadata": {
    "jp-MarkdownHeadingCollapsed": true
   },
   "source": [
    "### **What is the difference between multithreading and multiprocessing?**\n",
    "\n",
    "Answer:\n",
    "\n",
    "Multithreading: Uses multiple threads within a single process. Threads share the same memory space, so communication between them is easier but can lead to race conditions.\n",
    "\n",
    "Multiprocessing: Uses multiple processes, each with its own memory space. It avoids the Global Interpreter Lock (GIL) and can fully utilize multiple CPU cores, but communication between processes is slower.\n"
   ]
  },
  {
   "cell_type": "markdown",
   "id": "f35ea05b-2e88-4e09-9bfc-2d7a010d7394",
   "metadata": {},
   "source": [
    "### **What are the challenges associated with memory management in Python?**\n",
    "\n",
    "Answer:\n",
    "\n",
    "Reference cycles leading to memory leaks\n",
    "\n",
    "Fragmentation in memory due to dynamic allocations\n",
    "\n",
    "Global Interpreter Lock (GIL) limits parallelism in multithreading\n",
    "\n",
    "Large object handling in long-running applications\n",
    "\n",
    "Garbage collection overhead when many objects are created and destroyed"
   ]
  },
  {
   "cell_type": "code",
   "execution_count": 4,
   "id": "7ecee347-274f-4eb0-9d0e-44ffc3de7a2c",
   "metadata": {},
   "outputs": [],
   "source": [
    "### **Write a Python program that logs an error message to a log file when a division by zero exception occurs.**\n",
    "\n",
    "import logging\n",
    "\n",
    "logging.basicConfig(filename='error.log', level=logging.ERROR)\n",
    "\n",
    "try:\n",
    "    a = 10\n",
    "    b = 0\n",
    "    result = a / b\n",
    "except ZeroDivisionError as e:\n",
    "    logging.error(\"Division by zero error occurred: %s\", e)\n"
   ]
  },
  {
   "cell_type": "code",
   "execution_count": 6,
   "id": "89f86759-d42b-415a-ad1e-6ffb2f11d234",
   "metadata": {},
   "outputs": [
    {
     "name": "stdout",
     "output_type": "stream",
     "text": [
      "Source file not found!\n"
     ]
    }
   ],
   "source": [
    "### **Write a Python program that reads from one file and writes its content to another file.**\n",
    "\n",
    "try:\n",
    "    with open(\"source.txt\", \"r\") as src:\n",
    "        data = src.read()\n",
    "    with open(\"destination.txt\", \"w\") as dest:\n",
    "        dest.write(data)\n",
    "    print(\"File copied successfully!\")\n",
    "except FileNotFoundError:\n",
    "    print(\"Source file not found!\")\n",
    "\n",
    "\n"
   ]
  },
  {
   "cell_type": "code",
   "execution_count": 7,
   "id": "cc2164ac-d74d-4c90-a505-8143a03f6fcc",
   "metadata": {},
   "outputs": [
    {
     "name": "stdout",
     "output_type": "stream",
     "text": [
      "Index out of range!\n"
     ]
    }
   ],
   "source": [
    "### **Write a program that handles both IndexError and KeyError using try-except block.**\n",
    "\n",
    "try:\n",
    "    lst = [1, 2, 3]\n",
    "    print(lst[5])\n",
    "    dct = {\"a\": 1}\n",
    "    print(dct[\"b\"])\n",
    "except IndexError:\n",
    "    print(\"Index out of range!\")\n",
    "except KeyError:\n",
    "    print(\"Key not found in dictionary!\")\n"
   ]
  },
  {
   "cell_type": "markdown",
   "id": "4d63525e-3cab-4937-a2a4-5a40939ec500",
   "metadata": {},
   "source": [
    "### **What are the differences between NumPy arrays and Python lists?**\n",
    "\n",
    "\n",
    "Feature         \tNumPy Array\t                Python List\n",
    "\n",
    "Storage   \t    Homogeneous (same data type)\tHeterogeneous\n",
    "Performance \tFaster and memory-efficient   \tSlower\n",
    "Operations\t    Supports vectorized operations\tNeeds loops\n",
    "Size\t        Fixed\t                        Dynamic\n",
    "Libraries\t    Provided by NumPy\t            Built-in\n"
   ]
  },
  {
   "cell_type": "code",
   "execution_count": null,
   "id": "ff525a8d-936c-4c1e-8f0d-14447473b2ef",
   "metadata": {},
   "outputs": [],
   "source": [
    "### **Explain the difference between apply() and map() in Pandas.**\n",
    "\n",
    "# map() – Used for element-wise transformations on Series.\n",
    "\n",
    "# apply() – Used for applying a function along an axis (rows or columns) of a DataFrame.\n",
    "\n",
    "\n",
    "# Example:\n",
    "\n",
    "def['col'] = def['col'].map(lambda x: x*2)\n",
    "def = def.apply(lambda x: x*2)\n"
   ]
  },
  {
   "cell_type": "code",
   "execution_count": null,
   "id": "06e33afc-6d6c-4c05-be7d-647f89c5ec75",
   "metadata": {},
   "outputs": [],
   "source": [
    "### **Create a histogram using Seaborn to visualize a distribution.**\n",
    "\n",
    "import seaborn as sns\n",
    "import matplotlib.pyplot as plt\n",
    "\n",
    "data = [12, 15, 20, 22, 25, 29, 30, 32, 35, 37, 40]\n",
    "sns.histplot(data, kde=True)\n",
    "plt.title(\"Distribution Histogram\")\n",
    "plt.show()"
   ]
  },
  {
   "cell_type": "code",
   "execution_count": null,
   "id": "69b470a6-3a3a-4f7b-a72a-ba2e13355d23",
   "metadata": {},
   "outputs": [],
   "source": [
    "### **Use Pandas to load a CSV file and display its first 5 rows.**\n",
    "\n",
    "import pandas as pd\n",
    "\n",
    "df = pd.read_csv(\"data.csv\")\n",
    "print(df.head())\n"
   ]
  },
  {
   "cell_type": "code",
   "execution_count": 18,
   "id": "0e25daf9-4fb3-4dd1-be2e-ab5f20757cb9",
   "metadata": {},
   "outputs": [
    {
     "ename": "ModuleNotFoundError",
     "evalue": "No module named 'pandas'",
     "output_type": "error",
     "traceback": [
      "\u001b[31m---------------------------------------------------------------------------\u001b[39m",
      "\u001b[31mModuleNotFoundError\u001b[39m                       Traceback (most recent call last)",
      "\u001b[36mCell\u001b[39m\u001b[36m \u001b[39m\u001b[32mIn[18]\u001b[39m\u001b[32m, line 3\u001b[39m\n\u001b[32m      1\u001b[39m \u001b[38;5;66;03m### **Calculate the correlation matrix using Seaborn and visualize it with a heatmap.**\u001b[39;00m\n\u001b[32m----> \u001b[39m\u001b[32m3\u001b[39m \u001b[38;5;28;01mimport\u001b[39;00m\u001b[38;5;250m \u001b[39m\u001b[34;01mpandas\u001b[39;00m\u001b[38;5;250m \u001b[39m\u001b[38;5;28;01mas\u001b[39;00m\u001b[38;5;250m \u001b[39m\u001b[34;01mpd\u001b[39;00m\n\u001b[32m      4\u001b[39m \u001b[38;5;28;01mimport\u001b[39;00m\u001b[38;5;250m \u001b[39m\u001b[34;01mseaborn\u001b[39;00m\u001b[38;5;250m \u001b[39m\u001b[38;5;28;01mas\u001b[39;00m\u001b[38;5;250m \u001b[39m\u001b[34;01msns\u001b[39;00m\n\u001b[32m      5\u001b[39m \u001b[38;5;28;01mimport\u001b[39;00m\u001b[38;5;250m \u001b[39m\u001b[34;01mmatplotlib\u001b[39;00m\u001b[34;01m.\u001b[39;00m\u001b[34;01mpyplot\u001b[39;00m\u001b[38;5;250m \u001b[39m\u001b[38;5;28;01mas\u001b[39;00m\u001b[38;5;250m \u001b[39m\u001b[34;01mplt\u001b[39;00m\n",
      "\u001b[31mModuleNotFoundError\u001b[39m: No module named 'pandas'"
     ]
    }
   ],
   "source": [
    "### **Calculate the correlation matrix using Seaborn and visualize it with a heatmap.**\n",
    "\n",
    "import pandas as pd\n",
    "import seaborn as sns\n",
    "import matplotlib.pyplot as plt\n",
    "\n",
    "df = pd.read_csv(\"data.csv\")\n",
    "corr = df.corr()\n",
    "sns.heatmap(corr, annot=True, cmap='coolwarm')\n",
    "plt.title(\"Correlation Heatmap\")\n",
    "plt.show()"
   ]
  },
  {
   "cell_type": "code",
   "execution_count": null,
   "id": "246c40b4-1fcd-4895-aae7-50d8568d2f63",
   "metadata": {},
   "outputs": [],
   "source": []
  }
 ],
 "metadata": {
  "kernelspec": {
   "display_name": "Python 3 (ipykernel)",
   "language": "python",
   "name": "python3"
  },
  "language_info": {
   "codemirror_mode": {
    "name": "ipython",
    "version": 3
   },
   "file_extension": ".py",
   "mimetype": "text/x-python",
   "name": "python",
   "nbconvert_exporter": "python",
   "pygments_lexer": "ipython3",
   "version": "3.13.7"
  }
 },
 "nbformat": 4,
 "nbformat_minor": 5
}
